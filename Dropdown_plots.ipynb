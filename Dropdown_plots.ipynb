{
 "cells": [
  {
   "cell_type": "code",
   "execution_count": 30,
   "metadata": {
    "collapsed": true
   },
   "outputs": [],
   "source": [
    "import pandas as pd\n",
    "import numpy as np\n",
    "import re\n",
    "import string\n",
    "import os\n",
    "import plotly\n",
    "import plotly.plotly as py\n",
    "import plotly.graph_objs as go\n",
    "\n",
    "path = '/Users/deena/Documents/Spring_Module2/Data_viz/Project/'"
   ]
  },
  {
   "cell_type": "code",
   "execution_count": 31,
   "metadata": {
    "collapsed": true
   },
   "outputs": [],
   "source": [
    "df = pd.read_csv(path + 'zomato.csv',encoding = \"ISO-8859-1\")"
   ]
  },
  {
   "cell_type": "code",
   "execution_count": 32,
   "metadata": {},
   "outputs": [
    {
     "data": {
      "text/html": [
       "<div>\n",
       "<style>\n",
       "    .dataframe thead tr:only-child th {\n",
       "        text-align: right;\n",
       "    }\n",
       "\n",
       "    .dataframe thead th {\n",
       "        text-align: left;\n",
       "    }\n",
       "\n",
       "    .dataframe tbody tr th {\n",
       "        vertical-align: top;\n",
       "    }\n",
       "</style>\n",
       "<table border=\"1\" class=\"dataframe\">\n",
       "  <thead>\n",
       "    <tr style=\"text-align: right;\">\n",
       "      <th></th>\n",
       "      <th>Restaurant ID</th>\n",
       "      <th>Restaurant Name</th>\n",
       "      <th>Country Code</th>\n",
       "      <th>City</th>\n",
       "      <th>Address</th>\n",
       "      <th>Locality</th>\n",
       "      <th>Locality Verbose</th>\n",
       "      <th>Longitude</th>\n",
       "      <th>Latitude</th>\n",
       "      <th>Cuisines</th>\n",
       "      <th>...</th>\n",
       "      <th>Currency</th>\n",
       "      <th>Has Table booking</th>\n",
       "      <th>Has Online delivery</th>\n",
       "      <th>Is delivering now</th>\n",
       "      <th>Switch to order menu</th>\n",
       "      <th>Price range</th>\n",
       "      <th>Aggregate rating</th>\n",
       "      <th>Rating color</th>\n",
       "      <th>Rating text</th>\n",
       "      <th>Votes</th>\n",
       "    </tr>\n",
       "  </thead>\n",
       "  <tbody>\n",
       "    <tr>\n",
       "      <th>0</th>\n",
       "      <td>6317637</td>\n",
       "      <td>Le Petit Souffle</td>\n",
       "      <td>162</td>\n",
       "      <td>Makati City</td>\n",
       "      <td>Third Floor, Century City Mall, Kalayaan Avenu...</td>\n",
       "      <td>Century City Mall, Poblacion, Makati City</td>\n",
       "      <td>Century City Mall, Poblacion, Makati City, Mak...</td>\n",
       "      <td>121.027535</td>\n",
       "      <td>14.565443</td>\n",
       "      <td>French, Japanese, Desserts</td>\n",
       "      <td>...</td>\n",
       "      <td>Botswana Pula(P)</td>\n",
       "      <td>Yes</td>\n",
       "      <td>No</td>\n",
       "      <td>No</td>\n",
       "      <td>No</td>\n",
       "      <td>3</td>\n",
       "      <td>4.8</td>\n",
       "      <td>Dark Green</td>\n",
       "      <td>Excellent</td>\n",
       "      <td>314</td>\n",
       "    </tr>\n",
       "  </tbody>\n",
       "</table>\n",
       "<p>1 rows × 21 columns</p>\n",
       "</div>"
      ],
      "text/plain": [
       "   Restaurant ID   Restaurant Name  Country Code         City  \\\n",
       "0        6317637  Le Petit Souffle           162  Makati City   \n",
       "\n",
       "                                             Address  \\\n",
       "0  Third Floor, Century City Mall, Kalayaan Avenu...   \n",
       "\n",
       "                                    Locality  \\\n",
       "0  Century City Mall, Poblacion, Makati City   \n",
       "\n",
       "                                    Locality Verbose   Longitude   Latitude  \\\n",
       "0  Century City Mall, Poblacion, Makati City, Mak...  121.027535  14.565443   \n",
       "\n",
       "                     Cuisines  ...           Currency Has Table booking  \\\n",
       "0  French, Japanese, Desserts  ...   Botswana Pula(P)               Yes   \n",
       "\n",
       "  Has Online delivery Is delivering now Switch to order menu Price range  \\\n",
       "0                  No                No                   No           3   \n",
       "\n",
       "   Aggregate rating  Rating color Rating text Votes  \n",
       "0               4.8    Dark Green   Excellent   314  \n",
       "\n",
       "[1 rows x 21 columns]"
      ]
     },
     "execution_count": 32,
     "metadata": {},
     "output_type": "execute_result"
    }
   ],
   "source": [
    "df.head(1)"
   ]
  },
  {
   "cell_type": "code",
   "execution_count": 33,
   "metadata": {
    "collapsed": true
   },
   "outputs": [],
   "source": [
    "country_code_mapping = {\n",
    "1: 'India',\n",
    "14: 'Australia',\n",
    "30: 'Brazil',\n",
    "37: 'Canada',\n",
    "94: 'Indonesia',\n",
    "148: 'New Zealand',\n",
    "162: 'Phillipines',\n",
    "166: 'Qatar',\n",
    "184: 'Singapore',\n",
    "189: 'South Africa',\n",
    "191: 'Sri Lanka',\n",
    "208: 'Turkey',\n",
    "214: 'UAE',\n",
    "215: 'United Kingdom',\n",
    "216: 'United States'\n",
    "}\n",
    "\n",
    "df['City_Country'] = df[\"City\"] + ', ' + df[\"Country Code\"].map(country_code_mapping)"
   ]
  },
  {
   "cell_type": "code",
   "execution_count": 34,
   "metadata": {},
   "outputs": [
    {
     "data": {
      "text/html": [
       "<div>\n",
       "<style>\n",
       "    .dataframe thead tr:only-child th {\n",
       "        text-align: right;\n",
       "    }\n",
       "\n",
       "    .dataframe thead th {\n",
       "        text-align: left;\n",
       "    }\n",
       "\n",
       "    .dataframe tbody tr th {\n",
       "        vertical-align: top;\n",
       "    }\n",
       "</style>\n",
       "<table border=\"1\" class=\"dataframe\">\n",
       "  <thead>\n",
       "    <tr style=\"text-align: right;\">\n",
       "      <th></th>\n",
       "      <th>City_Country</th>\n",
       "      <th>Price range</th>\n",
       "      <th>Aggregate rating</th>\n",
       "    </tr>\n",
       "  </thead>\n",
       "  <tbody>\n",
       "    <tr>\n",
       "      <th>0</th>\n",
       "      <td>Abu Dhabi, UAE</td>\n",
       "      <td>3.300000</td>\n",
       "      <td>4.300000</td>\n",
       "    </tr>\n",
       "    <tr>\n",
       "      <th>1</th>\n",
       "      <td>Agra, India</td>\n",
       "      <td>2.650000</td>\n",
       "      <td>3.965000</td>\n",
       "    </tr>\n",
       "    <tr>\n",
       "      <th>2</th>\n",
       "      <td>Ahmedabad, India</td>\n",
       "      <td>2.571429</td>\n",
       "      <td>4.161905</td>\n",
       "    </tr>\n",
       "    <tr>\n",
       "      <th>3</th>\n",
       "      <td>Albany, United States</td>\n",
       "      <td>1.700000</td>\n",
       "      <td>3.555000</td>\n",
       "    </tr>\n",
       "    <tr>\n",
       "      <th>4</th>\n",
       "      <td>Allahabad, India</td>\n",
       "      <td>2.650000</td>\n",
       "      <td>3.395000</td>\n",
       "    </tr>\n",
       "  </tbody>\n",
       "</table>\n",
       "</div>"
      ],
      "text/plain": [
       "            City_Country  Price range  Aggregate rating\n",
       "0         Abu Dhabi, UAE     3.300000          4.300000\n",
       "1            Agra, India     2.650000          3.965000\n",
       "2       Ahmedabad, India     2.571429          4.161905\n",
       "3  Albany, United States     1.700000          3.555000\n",
       "4       Allahabad, India     2.650000          3.395000"
      ]
     },
     "execution_count": 34,
     "metadata": {},
     "output_type": "execute_result"
    }
   ],
   "source": [
    "df_city = df.groupby('City_Country').mean().reset_index()[['City_Country', 'Price range', 'Aggregate rating']]\n",
    "df_city.head()"
   ]
  },
  {
   "cell_type": "code",
   "execution_count": 35,
   "metadata": {},
   "outputs": [
    {
     "data": {
      "text/plain": [
       "'file:///Users/deena/Documents/Spring_Module2/Data_viz/Project/temp-plot.html'"
      ]
     },
     "execution_count": 35,
     "metadata": {},
     "output_type": "execute_result"
    }
   ],
   "source": [
    "data = []\n",
    "\n",
    "for city in df_city['City_Country']:\n",
    "    data.append(go.Bar(x=['Average Price Range', 'Average Rating'],\n",
    "                        y=df_city[df_city.City_Country == city][['Price range', 'Aggregate rating']].values.tolist()[0],\n",
    "                        name= city,\n",
    "                       visible=False,\n",
    "                       text = [round(n,2) for n in df_city[df_city.City_Country == city][['Price range', 'Aggregate rating']].values.tolist()[0]],\n",
    "                       textposition='auto'\n",
    "                        ))\n",
    "\n",
    "buttons = []\n",
    "\n",
    "for row, city in df_city.City_Country.iteritems():\n",
    "    condition = [False]*len(df_city)\n",
    "    condition[row] = True\n",
    "    buttons.append(dict(label = city,\n",
    "                 method = 'update',\n",
    "                 args = [{'visible': condition},\n",
    "                         {'title': 'Restaurant Summaries for City: ' + city,\n",
    "                          }]))\n",
    "\n",
    "updatemenus=list([\n",
    "    dict(\n",
    "        buttons = buttons,\n",
    "        pad = {'r': 0, 't': 10},\n",
    "        #x = 0.1,\n",
    "        #xanchor = 'left',\n",
    "       # y = 1.0,\n",
    "        yanchor = 'top',\n",
    "        bgcolor = 'AAAAAA',\n",
    "        active = 99,\n",
    "        bordercolor = '#FFFFFF',\n",
    "        font = dict(size=11, color='#000000'))])\n",
    "\n",
    "layout = dict(title='Restaurant Summaries for Cities', showlegend=False,\n",
    "              updatemenus=updatemenus)\n",
    "\n",
    "figure = dict(data=data, layout=layout)\n",
    "plotly.offline.plot(figure)"
   ]
  },
  {
   "cell_type": "code",
   "execution_count": 36,
   "metadata": {
    "collapsed": true
   },
   "outputs": [],
   "source": [
    "temp = pd.concat([df, df['Cuisines'].str.split(', ', expand=True)], axis=1)\n",
    "\n",
    "df_cuisines = pd.melt(temp, id_vars=df.columns, \n",
    "                  var_name=\"Col\", value_name=\"Cuisine_split\")\n",
    "\n",
    "df_cuisines = df_cuisines.groupby(['City_Country', 'Cuisine_split']).count().reset_index()[['City_Country', 'Cuisine_split', 'Col']]"
   ]
  },
  {
   "cell_type": "code",
   "execution_count": 37,
   "metadata": {},
   "outputs": [
    {
     "data": {
      "text/plain": [
       "'file:///Users/deena/Documents/Spring_Module2/Data_viz/Project/temp-plot.html'"
      ]
     },
     "execution_count": 37,
     "metadata": {},
     "output_type": "execute_result"
    }
   ],
   "source": [
    "data = []\n",
    "\n",
    "for city in df_cuisines['City_Country'].drop_duplicates():\n",
    "    data.append(go.Bar(x=df_cuisines[df_cuisines.City_Country == city]['Cuisine_split'].values.tolist(),\n",
    "                        y=df_cuisines[df_cuisines.City_Country == city]['Col'].values.tolist(),\n",
    "                        name= city,\n",
    "                       visible=False,\n",
    "                       text = df_cuisines[df_cuisines.City_Country == city]['Col'].values.tolist(),\n",
    "                       textposition='auto'\n",
    "                        ))\n",
    "\n",
    "buttons = []\n",
    "\n",
    "for row, city in df_cuisines.City_Country.drop_duplicates().reset_index()['City_Country'].iteritems():\n",
    "    condition = [False]*len(df_cuisines.City_Country.drop_duplicates())\n",
    "    condition[row] = True\n",
    "    buttons.append(dict(label = city,\n",
    "                 method = 'update',\n",
    "                 args = [{'visible': condition},\n",
    "                         {'title': 'Cuisines Summaries for City: ' + city,\n",
    "                          }]))\n",
    "\n",
    "updatemenus=list([\n",
    "    dict(\n",
    "        buttons = buttons,\n",
    "        pad = {'r': 0, 't': 10},\n",
    "        #x = 0.1,\n",
    "        #xanchor = 'left',\n",
    "       # y = 1.0,\n",
    "        yanchor = 'top',\n",
    "        bgcolor = 'AAAAAA',\n",
    "        active = 99,\n",
    "        bordercolor = '#FFFFFF',\n",
    "        font = dict(size=11, color='#000000'))])\n",
    "\n",
    "layout = dict(title='Cuisines Summaries for Cities', showlegend=False,\n",
    "              updatemenus=updatemenus)\n",
    "\n",
    "figure = dict(data=data, layout=layout)\n",
    "plotly.offline.plot(figure)"
   ]
  },
  {
   "cell_type": "code",
   "execution_count": null,
   "metadata": {
    "collapsed": true
   },
   "outputs": [],
   "source": []
  }
 ],
 "metadata": {
  "kernelspec": {
   "display_name": "Python 3",
   "language": "python",
   "name": "python3"
  },
  "language_info": {
   "codemirror_mode": {
    "name": "ipython",
    "version": 3
   },
   "file_extension": ".py",
   "mimetype": "text/x-python",
   "name": "python",
   "nbconvert_exporter": "python",
   "pygments_lexer": "ipython3",
   "version": "3.6.2"
  }
 },
 "nbformat": 4,
 "nbformat_minor": 2
}
